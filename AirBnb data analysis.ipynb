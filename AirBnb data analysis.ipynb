{
 "cells": [
  {
   "cell_type": "code",
   "execution_count": null,
   "metadata": {},
   "outputs": [],
   "source": [
    "import numpy as np\n",
    "import pandas as pd \n",
    "import matplotlib.pyplot as plt\n",
    "import matplotlib.image as mpimg\n",
    "%matplotlib inline\n",
    "import seaborn as sns"
   ]
  },
  {
   "cell_type": "code",
   "execution_count": null,
   "metadata": {},
   "outputs": [],
   "source": [
    "airbnb = pd.read_csv(r'C:\\Users\\mosta\\Desktop\\MASTER IT MATERIAL\\data mining and warehousing\\new-york-city-airbnb-open-data\\AB_NYC_2019.csv') #change path to the data source according to your pc "
   ]
  },
  {
   "cell_type": "code",
   "execution_count": null,
   "metadata": {},
   "outputs": [],
   "source": [
    "airbnb.head(10)"
   ]
  },
  {
   "cell_type": "code",
   "execution_count": null,
   "metadata": {},
   "outputs": [],
   "source": [
    "len(airbnb)"
   ]
  },
  {
   "cell_type": "code",
   "execution_count": null,
   "metadata": {},
   "outputs": [],
   "source": [
    "airbnb.isnull().sum()"
   ]
  },
  {
   "cell_type": "code",
   "execution_count": null,
   "metadata": {},
   "outputs": [],
   "source": [
    "airbnb.drop(['id','host_name','last_review'], axis=1, inplace=True)\n"
   ]
  },
  {
   "cell_type": "code",
   "execution_count": null,
   "metadata": {},
   "outputs": [],
   "source": [
    "airbnb.head(5)"
   ]
  },
  {
   "cell_type": "code",
   "execution_count": null,
   "metadata": {},
   "outputs": [],
   "source": [
    "#replacing all NaN values in 'reviews_per_month' with 0\n",
    "airbnb.fillna({'reviews_per_month':0}, inplace=True)\n",
    "#examing changes\n",
    "airbnb.reviews_per_month.isnull().sum()"
   ]
  },
  {
   "cell_type": "code",
   "execution_count": null,
   "metadata": {},
   "outputs": [],
   "source": [
    "airbnb.neighbourhood_group.unique()"
   ]
  },
  {
   "cell_type": "code",
   "execution_count": null,
   "metadata": {},
   "outputs": [],
   "source": [
    "airbnb.neighbourhood.unique()\n"
   ]
  },
  {
   "cell_type": "code",
   "execution_count": null,
   "metadata": {},
   "outputs": [],
   "source": [
    "airbnb.room_type.unique()"
   ]
  },
  {
   "cell_type": "code",
   "execution_count": null,
   "metadata": {},
   "outputs": [],
   "source": [
    "top_host=airbnb.host_id.value_counts().head(10)\n",
    "top_host"
   ]
  },
  {
   "cell_type": "code",
   "execution_count": null,
   "metadata": {},
   "outputs": [],
   "source": [
    "top_host_check=airbnb.calculated_host_listings_count.max()\n",
    "top_host_check"
   ]
  },
  {
   "cell_type": "code",
   "execution_count": null,
   "metadata": {},
   "outputs": [],
   "source": [
    "#setting figure size for future visualizations\n",
    "sns.set(rc={'figure.figsize':(10,8)})\n",
    "viz_1=top_host.plot(kind='bar')\n",
    "viz_1.set_title('Hosts with the most listings in NYC')\n",
    "viz_1.set_ylabel('Count of listings')\n",
    "viz_1.set_xlabel('Host IDs')\n",
    "viz_1.set_xticklabels(viz_1.get_xticklabels(), rotation=45)"
   ]
  },
  {
   "cell_type": "code",
   "execution_count": null,
   "metadata": {},
   "outputs": [],
   "source": [
    "#let's find out more about our neiberhoods presented 'Brooklyn', 'Manhattan', 'Queens', 'Staten Island', and 'Bronx'\n",
    "\n",
    "#Brooklyn\n",
    "sub_1=airbnb.loc[airbnb['neighbourhood_group'] == 'Brooklyn']\n",
    "price_sub1=sub_1[['price']]\n",
    "#Manhattan\n",
    "sub_2=airbnb.loc[airbnb['neighbourhood_group'] == 'Manhattan']\n",
    "price_sub2=sub_2[['price']]\n",
    "#Queens\n",
    "sub_3=airbnb.loc[airbnb['neighbourhood_group'] == 'Queens']\n",
    "price_sub3=sub_3[['price']]\n",
    "#Staten Island\n",
    "sub_4=airbnb.loc[airbnb['neighbourhood_group'] == 'Staten Island']\n",
    "price_sub4=sub_4[['price']]\n",
    "#Bronx\n",
    "sub_5=airbnb.loc[airbnb['neighbourhood_group'] == 'Bronx']\n",
    "price_sub5=sub_5[['price']]\n",
    "#putting all the prices' dfs in the list\n",
    "price_list_by_n=[price_sub1, price_sub2, price_sub3, price_sub4, price_sub5]"
   ]
  },
  {
   "cell_type": "code",
   "execution_count": null,
   "metadata": {},
   "outputs": [],
   "source": [
    "#let's grab just top 10 neighbourhoods that have the most listings in them\n",
    "\n",
    "#finding out top 10 neighbourhoods\n",
    "airbnb.neighbourhood.value_counts().head(10)"
   ]
  },
  {
   "cell_type": "code",
   "execution_count": null,
   "metadata": {},
   "outputs": [],
   "source": [
    "#let's now combine this with our boroughs and room type for a rich visualization we can make\n",
    "\n",
    "#grabbing top 10 neighbourhoods for sub-dataframe\n",
    "sub_7=airbnb.loc[airbnb['neighbourhood'].isin(['Williamsburg','Bedford-Stuyvesant','Harlem','Bushwick',\n",
    "                 'Upper West Side','Hell\\'s Kitchen','East Village','Upper East Side','Crown Heights','Midtown'])]\n",
    "#using catplot to represent multiple interesting attributes together and a count\n",
    "viz_3=sns.catplot(x='neighbourhood', hue='neighbourhood_group', col='room_type', data=sub_7, kind='count')\n",
    "viz_3.set_xticklabels(rotation=90)"
   ]
  },
  {
   "cell_type": "code",
   "execution_count": null,
   "metadata": {
    "scrolled": true
   },
   "outputs": [],
   "source": [
    "#let's grab 10 most reviewed listings in NYC\n",
    "top_reviewed_listings=airbnb.nlargest(10,'number_of_reviews')\n",
    "top_reviewed_listings"
   ]
  },
  {
   "cell_type": "markdown",
   "metadata": {},
   "source": [
    "Prices:"
   ]
  },
  {
   "cell_type": "code",
   "execution_count": null,
   "metadata": {
    "scrolled": true
   },
   "outputs": [],
   "source": [
    "price_avrg=top_reviewed_listings.price.mean()\n",
    "print('Average price per night: {}'.format(price_avrg))"
   ]
  },
  {
   "cell_type": "markdown",
   "metadata": {},
   "source": [
    "conclusion top 10 most reviewed listings on Airbnb for NYC has price average of $65 with most of the listings under \\$50, and 9/10 of them are 'Private room' type; top reviewed listing has 629 reviews."
   ]
  },
  {
   "cell_type": "code",
   "execution_count": null,
   "metadata": {},
   "outputs": [],
   "source": [
    "data = airbnb"
   ]
  },
  {
   "cell_type": "code",
   "execution_count": null,
   "metadata": {},
   "outputs": [],
   "source": [
    "d = data.groupby('neighbourhood')['price'].mean().sort_values(ascending=False)\n",
    "\n",
    "fig, ax= plt.subplots(2,1, figsize=(20,19))\n",
    "sns.barplot(d.index.tolist()[:20], d.values[:20], ax=ax[0], palette=(\"Blues_d\"))\n",
    "ax[0].set_xticklabels(ax[0].get_xticklabels(), rotation=40, ha=\"right\")\n",
    "ax[0].set_title('Top 20 most expensive neighbourhoods')\n",
    "\n",
    "d = data.groupby('neighbourhood_group')['price'].mean().sort_values(ascending=False)[:5]\n",
    "sns.barplot(d.index.tolist(), d.values, ax=ax[1], palette=(\"Blues_d\"))\n",
    "#ax[1].set_xticklabels(ax[1].get_xticklabels(), rotation=40, ha=\"right\")\n",
    "ax[1].set_title('Mean price of each neighbourhood_group')\n",
    "\n",
    "fig.show()"
   ]
  },
  {
   "cell_type": "code",
   "execution_count": null,
   "metadata": {},
   "outputs": [],
   "source": [
    "d = data.groupby('room_type')['price'].mean().sort_values(ascending=False)\n",
    "fig, ax= plt.subplots(figsize=(15,7))\n",
    "sns.barplot(d.index.tolist(), d.values, ax=ax)\n",
    "ax.set_title('Average price of room types')\n",
    "fig.show()"
   ]
  }
 ],
 "metadata": {
  "kernelspec": {
   "display_name": "Python 3",
   "language": "python",
   "name": "python3"
  },
  "language_info": {
   "codemirror_mode": {
    "name": "ipython",
    "version": 3
   },
   "file_extension": ".py",
   "mimetype": "text/x-python",
   "name": "python",
   "nbconvert_exporter": "python",
   "pygments_lexer": "ipython3",
   "version": "3.7.3"
  }
 },
 "nbformat": 4,
 "nbformat_minor": 2
}
